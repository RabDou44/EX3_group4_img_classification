{
 "cells": [
  {
   "cell_type": "markdown",
   "metadata": {},
   "source": [
    "#### Dataset: CIFAR-10 "
   ]
  },
  {
   "attachments": {},
   "cell_type": "markdown",
   "metadata": {},
   "source": [
    "##### Image classification using customized Net architecture without data augmentation"
   ]
  },
  {
   "attachments": {},
   "cell_type": "markdown",
   "metadata": {},
   "source": [
    "This code trains a convolutional neural network (CNN) on the CIFAR-10 dataset using PyTorch.\n",
    "First, it imports PyTorch and its required modules as well as the datasets and transforms modules from torchvision."
   ]
  },
  {
   "cell_type": "code",
   "execution_count": 1,
   "metadata": {},
   "outputs": [],
   "source": [
    "import torch\n",
    "import torch.nn as nn\n",
    "import torch.optim as optim\n",
    "import torchvision.transforms as transforms\n",
    "import torchvision.datasets as datasets"
   ]
  },
  {
   "attachments": {},
   "cell_type": "markdown",
   "metadata": {},
   "source": [
    "There are two sets of transformations, one for the training set and one for the test set. The training set transformations include random cropping, random horizontal flipping, converting the data to a tensor, and normalizing the data. The test set transformations only include converting the data to a tensor and normalizing it. The code then loads the CIFAR-10 dataset using the datasets.CIFAR10 class from torchvision. It uses the train=True argument to load the training set and train=False to load the test set. It also specifies the root directory for the data, whether to download the data if it doesn't exist, and the transformations to be applied to the data. It then creates data loaders for the training set and test set using the DataLoader class from PyTorch, which allows the data to be loaded in batches and shuffled during training.\n"
   ]
  },
  {
   "cell_type": "code",
   "execution_count": 2,
   "metadata": {},
   "outputs": [
    {
     "name": "stdout",
     "output_type": "stream",
     "text": [
      "Files already downloaded and verified\n",
      "Files already downloaded and verified\n"
     ]
    }
   ],
   "source": [
    "\n",
    "transform_train = transforms.Compose([\n",
    "    transforms.RandomCrop(32, padding=4),\n",
    "    transforms.RandomHorizontalFlip(),\n",
    "    transforms.ToTensor(),\n",
    "    transforms.Normalize((0.4914, 0.4822, 0.4465), (0.2023, 0.1994, 0.2010)),\n",
    "])\n",
    "\n",
    "transform_test = transforms.Compose([\n",
    "    transforms.ToTensor(),\n",
    "    transforms.Normalize((0.4914, 0.4822, 0.4465), (0.2023, 0.1994, 0.2010)),\n",
    "])\n",
    "\n",
    "trainset = datasets.CIFAR10(root='./data', train=True, download=True, transform=transform_train)\n",
    "trainloader = torch.utils.data.DataLoader(trainset, batch_size=64, shuffle=True, num_workers=2)\n",
    "\n",
    "testset = datasets.CIFAR10(root='./data', train=False, download=True, transform=transform_test)\n",
    "testloader = torch.utils.data.DataLoader(testset, batch_size=64, shuffle=False, num_workers=2)\n"
   ]
  },
  {
   "attachments": {},
   "cell_type": "markdown",
   "metadata": {},
   "source": [
    "Next, the code defines the CNN architecture using the nn.Module class from PyTorch. The CNN consists of six convolutional layers, each followed by batch normalization, ReLU activation, and max pooling. The output of the sixth convolutional layer is then flattened and passed through two fully connected layers with ReLU activation, and the final output layer has 10 nodes, corresponding to the 10 classes in the CIFAR-10 dataset.\n"
   ]
  },
  {
   "cell_type": "code",
   "execution_count": 3,
   "metadata": {},
   "outputs": [],
   "source": [
    "class Net(nn.Module):\n",
    "    def __init__(self):\n",
    "        super(Net, self).__init__()\n",
    "        self.conv1 = nn.Conv2d(3, 64, kernel_size=3, padding=1)\n",
    "        self.bn1 = nn.BatchNorm2d(64)\n",
    "        self.relu1 = nn.ReLU(inplace=True)\n",
    "        self.conv2 = nn.Conv2d(64, 64, kernel_size=3, padding=1)\n",
    "        self.bn2 = nn.BatchNorm2d(64)\n",
    "        self.relu2 = nn.ReLU(inplace=True)\n",
    "        self.pool1 = nn.MaxPool2d(kernel_size=2, stride=2)\n",
    "        self.conv3 = nn.Conv2d(64, 128, kernel_size=3, padding=1)\n",
    "        self.bn3 = nn.BatchNorm2d(128)\n",
    "        self.relu3 = nn.ReLU(inplace=True)\n",
    "        self.conv4 = nn.Conv2d(128, 128, kernel_size=3, padding=1)\n",
    "        self.bn4 = nn.BatchNorm2d(128)\n",
    "        self.relu4 = nn.ReLU(inplace=True)\n",
    "        self.pool2 = nn.MaxPool2d(kernel_size=2, stride=2)\n",
    "        self.conv5 = nn.Conv2d(128, 256, kernel_size=3, padding=1)\n",
    "        self.bn5 = nn.BatchNorm2d(256)\n",
    "        self.relu5 = nn.ReLU(inplace=True)\n",
    "        self.conv6 = nn.Conv2d(256, 256, kernel_size=3, padding=1)\n",
    "        self.bn6 = nn.BatchNorm2d(256)\n",
    "        self.relu6 = nn.ReLU(inplace=True)\n",
    "        self.pool3 = nn.MaxPool2d(kernel_size=2, stride=2)\n",
    "        self.fc1 = nn.Linear(256 * 4 * 4, 1024)\n",
    "        self.relu7 = nn.ReLU(inplace=True)\n",
    "        self.dropout1 = nn.Dropout()\n",
    "        self.fc2 = nn.Linear(1024, 10)\n",
    "\n",
    "    def forward(self, x):\n",
    "        x = self.conv1(x)\n",
    "        x = self.bn1(x)\n",
    "        x = self.relu1(x)\n",
    "        x = self.conv2(x)\n",
    "        x = self.bn2(x)\n",
    "        x = self.relu2(x)\n",
    "        x = self.pool1(x)\n",
    "        x = self.conv3(x)\n",
    "        x = self.bn3(x)\n",
    "        x = self.relu3(x)\n",
    "        x = self.conv4(x)\n",
    "        x = self.bn4(x)\n",
    "        x = self.relu4(x)\n",
    "        x = self.pool2(x)\n",
    "        x = self.conv5(x)\n",
    "        x = self.bn5(x)\n",
    "        x = self.relu5(x)\n",
    "        x = self.conv6(x)\n",
    "        x = self.bn6(x)\n",
    "        x = self.relu6(x)\n",
    "        x = self.pool3(x)\n",
    "        x = x.view(-1, 256 * 4 * 4)\n",
    "        x = self.fc1(x)\n",
    "        x = self.relu7(x)\n",
    "        x = self.dropout1(x)\n",
    "        x = self.fc2(x)\n",
    "        return x\n"
   ]
  },
  {
   "attachments": {},
   "cell_type": "markdown",
   "metadata": {},
   "source": [
    "The code then sets the device to either CUDA or CPU depending on whether a GPU is available, instantiates the CNN, the cross entropy loss criterion, and the stochastic gradient descent optimizer with a learning rate of 0.1, momentum of 0.9, and weight decay of 1e-4. Finally, the code trains the CNN for 20 epochs using a nested for loop. In each epoch, it iterates over the training set, loads the input data and labels, sends them to the device, performs forward and backward passes through the CNN to compute the loss, updates the parameters using the optimizer, and tracks the running loss. Every 100 iterations, it prints the epoch number, batch number, and running loss. After training, it evaluates the accuracy of the CNN on the test set by iterating over the test set, loading the input data and labels, sending them to the device, computing the outputs of the CNN, and comparing the predicted labels to the true labels. It then prints the accuracy of the CNN on the test set.\n"
   ]
  },
  {
   "cell_type": "code",
   "execution_count": 4,
   "metadata": {},
   "outputs": [
    {
     "name": "stdout",
     "output_type": "stream",
     "text": [
      "[1,   100] loss: 2.674\n",
      "[1,   200] loss: 2.271\n",
      "[1,   300] loss: 2.199\n",
      "[1,   400] loss: 2.123\n",
      "[1,   500] loss: 2.083\n",
      "[1,   600] loss: 2.041\n",
      "[1,   700] loss: 1.995\n",
      "[2,   100] loss: 1.951\n",
      "[2,   200] loss: 1.959\n",
      "[2,   300] loss: 1.921\n",
      "[2,   400] loss: 1.886\n",
      "[2,   500] loss: 1.857\n",
      "[2,   600] loss: 1.816\n",
      "[2,   700] loss: 1.759\n",
      "[3,   100] loss: 1.708\n",
      "[3,   200] loss: 1.683\n",
      "[3,   300] loss: 1.640\n",
      "[3,   400] loss: 1.598\n",
      "[3,   500] loss: 1.558\n",
      "[3,   600] loss: 1.573\n",
      "[3,   700] loss: 1.502\n",
      "[4,   100] loss: 1.483\n",
      "[4,   200] loss: 1.471\n",
      "[4,   300] loss: 1.415\n",
      "[4,   400] loss: 1.376\n",
      "[4,   500] loss: 1.373\n",
      "[4,   600] loss: 1.319\n",
      "[4,   700] loss: 1.327\n",
      "[5,   100] loss: 1.255\n",
      "[5,   200] loss: 1.204\n",
      "[5,   300] loss: 1.256\n",
      "[5,   400] loss: 1.195\n",
      "[5,   500] loss: 1.171\n",
      "[5,   600] loss: 1.183\n",
      "[5,   700] loss: 1.128\n",
      "[6,   100] loss: 1.064\n",
      "[6,   200] loss: 1.093\n",
      "[6,   300] loss: 1.051\n",
      "[6,   400] loss: 1.028\n",
      "[6,   500] loss: 1.022\n",
      "[6,   600] loss: 1.028\n",
      "[6,   700] loss: 0.996\n",
      "[7,   100] loss: 0.974\n",
      "[7,   200] loss: 0.988\n",
      "[7,   300] loss: 0.953\n",
      "[7,   400] loss: 0.934\n",
      "[7,   500] loss: 0.936\n",
      "[7,   600] loss: 0.910\n",
      "[7,   700] loss: 0.939\n",
      "[8,   100] loss: 0.964\n",
      "[8,   200] loss: 0.891\n",
      "[8,   300] loss: 0.889\n",
      "[8,   400] loss: 0.879\n",
      "[8,   500] loss: 0.870\n",
      "[8,   600] loss: 0.859\n",
      "[8,   700] loss: 0.879\n",
      "[9,   100] loss: 0.818\n",
      "[9,   200] loss: 0.814\n",
      "[9,   300] loss: 0.817\n",
      "[9,   400] loss: 0.819\n",
      "[9,   500] loss: 0.791\n",
      "[9,   600] loss: 0.792\n",
      "[9,   700] loss: 0.815\n",
      "[10,   100] loss: 0.795\n",
      "[10,   200] loss: 0.766\n",
      "[10,   300] loss: 0.757\n",
      "[10,   400] loss: 0.799\n",
      "[10,   500] loss: 0.747\n",
      "[10,   600] loss: 0.735\n",
      "[10,   700] loss: 0.741\n",
      "[11,   100] loss: 0.726\n",
      "[11,   200] loss: 0.726\n",
      "[11,   300] loss: 0.675\n",
      "[11,   400] loss: 0.692\n",
      "[11,   500] loss: 0.705\n",
      "[11,   600] loss: 0.723\n",
      "[11,   700] loss: 0.716\n",
      "[12,   100] loss: 0.679\n",
      "[12,   200] loss: 0.695\n",
      "[12,   300] loss: 0.654\n",
      "[12,   400] loss: 0.714\n",
      "[12,   500] loss: 0.636\n",
      "[12,   600] loss: 0.662\n",
      "[12,   700] loss: 0.668\n",
      "[13,   100] loss: 0.646\n",
      "[13,   200] loss: 0.629\n",
      "[13,   300] loss: 0.676\n",
      "[13,   400] loss: 0.666\n",
      "[13,   500] loss: 0.658\n",
      "[13,   600] loss: 0.661\n",
      "[13,   700] loss: 0.644\n",
      "[14,   100] loss: 0.619\n",
      "[14,   200] loss: 0.639\n",
      "[14,   300] loss: 0.640\n",
      "[14,   400] loss: 0.631\n",
      "[14,   500] loss: 0.630\n",
      "[14,   600] loss: 0.630\n",
      "[14,   700] loss: 0.645\n",
      "[15,   100] loss: 0.614\n",
      "[15,   200] loss: 0.626\n",
      "[15,   300] loss: 0.629\n",
      "[15,   400] loss: 0.608\n",
      "[15,   500] loss: 0.579\n",
      "[15,   600] loss: 0.596\n",
      "[15,   700] loss: 0.600\n",
      "[16,   100] loss: 0.587\n",
      "[16,   200] loss: 0.609\n",
      "[16,   300] loss: 0.591\n",
      "[16,   400] loss: 0.612\n",
      "[16,   500] loss: 0.575\n",
      "[16,   600] loss: 0.593\n",
      "[16,   700] loss: 0.570\n",
      "[17,   100] loss: 0.570\n",
      "[17,   200] loss: 0.578\n",
      "[17,   300] loss: 0.552\n",
      "[17,   400] loss: 0.575\n",
      "[17,   500] loss: 0.579\n",
      "[17,   600] loss: 0.563\n",
      "[17,   700] loss: 0.571\n",
      "[18,   100] loss: 0.556\n",
      "[18,   200] loss: 0.558\n",
      "[18,   300] loss: 0.546\n",
      "[18,   400] loss: 0.592\n",
      "[18,   500] loss: 0.562\n",
      "[18,   600] loss: 0.535\n",
      "[18,   700] loss: 0.561\n",
      "[19,   100] loss: 0.559\n",
      "[19,   200] loss: 0.557\n",
      "[19,   300] loss: 0.536\n",
      "[19,   400] loss: 0.554\n",
      "[19,   500] loss: 0.564\n",
      "[19,   600] loss: 0.548\n",
      "[19,   700] loss: 0.540\n",
      "[20,   100] loss: 0.534\n",
      "[20,   200] loss: 0.544\n",
      "[20,   300] loss: 0.529\n",
      "[20,   400] loss: 0.520\n",
      "[20,   500] loss: 0.528\n",
      "[20,   600] loss: 0.541\n",
      "[20,   700] loss: 0.538\n",
      "Finished Training\n",
      "Finished training in 13431.239 seconds\n"
     ]
    }
   ],
   "source": [
    "\n",
    "device = torch.device(\"cuda:0\" if torch.cuda.is_available() else \"cpu\")\n",
    "\n",
    "net = Net().to(device)\n",
    "criterion = nn.CrossEntropyLoss()\n",
    "optimizer = optim.SGD(net.parameters(), lr=0.1, momentum=0.9, weight_decay=1e-4)\n",
    "\n",
    "import time\n",
    "\n",
    "start_time = time.time()\n",
    "for epoch in range(20):\n",
    "    running_loss = 0.0\n",
    "    for i, data in enumerate(trainloader, 0):\n",
    "        inputs, labels = data\n",
    "        inputs, labels = inputs.to(device), labels.to(device)\n",
    "\n",
    "        optimizer.zero_grad()\n",
    "\n",
    "        outputs = net(inputs)\n",
    "        loss = criterion(outputs, labels)\n",
    "        loss.backward()\n",
    "        optimizer.step()\n",
    "\n",
    "        running_loss += loss.item()\n",
    "        if i % 100 == 99:\n",
    "            print('[%d, %5d] loss: %.3f' % (epoch + 1, i + 1, running_loss / 100))\n",
    "            running_loss = 0.0\n",
    "\n",
    "print('Finished Training')\n",
    "print('Finished training in %.3f seconds' % (time.time() - start_time))\n",
    "\n"
   ]
  },
  {
   "cell_type": "code",
   "execution_count": 7,
   "metadata": {},
   "outputs": [
    {
     "name": "stdout",
     "output_type": "stream",
     "text": [
      "Accuracy of the network on the 10000 test images: 79 %\n",
      "Finished testing in 14636.301 seconds\n"
     ]
    }
   ],
   "source": [
    "correct = 0\n",
    "total = 0\n",
    "with torch.no_grad():\n",
    "    for data in testloader:\n",
    "        images, labels = data\n",
    "        images, labels = images.to(device), labels.to(device)\n",
    "        outputs = net(images)\n",
    "        _, predicted = torch.max(outputs.data, 1)\n",
    "        total += labels.size(0)\n",
    "        correct += (predicted == labels).sum().item()\n",
    "\n",
    "print('Accuracy of the network on the 10000 test images: %d %%' % (100 * correct / total))\n",
    "print('Finished testing in %.3f seconds' % (time.time() - start_time))\n"
   ]
  },
  {
   "cell_type": "code",
   "execution_count": 8,
   "metadata": {},
   "outputs": [
    {
     "name": "stdout",
     "output_type": "stream",
     "text": [
      "Confusion matrix:\n",
      "[[837,   2,  25,  10,   9,   0,   3,   7,  86,  21],\n",
      " [ 21, 831,   3,   5,   0,   0,   0,   1,  70,  69],\n",
      " [ 84,   1, 706,  61,  45,  16,  26,  35,  16,  10],\n",
      " [ 25,   3,  32, 733,  28,  60,  15,  46,  30,  28],\n",
      " [ 21,   0,  45,  45, 747,   8,  13, 107,   7,   7],\n",
      " [ 16,   1,  37, 188,  19, 634,   3,  79,  10,  13],\n",
      " [ 20,   5,  36,  86,  29,   5, 763,  16,  18,  22],\n",
      " [ 22,   2,  18,  36,  14,  12,   1, 883,   5,   7],\n",
      " [ 43,   6,   2,  10,   0,   2,   1,   1, 924,  11],\n",
      " [ 31,  23,   7,   7,   1,   1,   0,   4,  52, 874]]\n",
      "Accuracy: 79.32%\n"
     ]
    }
   ],
   "source": [
    "import numpy as np\n",
    "from sklearn.metrics import confusion_matrix\n",
    "\n",
    "# Evaluate on test set\n",
    "net.eval()\n",
    "y_true = []\n",
    "y_pred = []\n",
    "with torch.no_grad():\n",
    "    for data in testloader:\n",
    "        images, labels = data\n",
    "        images, labels = images.to(device), labels.to(device)\n",
    "        outputs = net(images)\n",
    "        _, predicted = torch.max(outputs.data, 1)\n",
    "        y_true += labels.cpu().numpy().tolist()\n",
    "        y_pred += predicted.cpu().numpy().tolist()\n",
    "\n",
    "# Generate confusion matrix\n",
    "classes = ('plane', 'car', 'bird', 'cat', 'deer', 'dog', 'frog', 'horse', 'ship', 'truck')\n",
    "conf_matrix = confusion_matrix(y_true, y_pred)\n",
    "\n",
    "# Print confusion matrix\n",
    "print(\"Confusion matrix:\")\n",
    "print(np.array2string(conf_matrix, separator=', ', \n",
    "                      formatter={'int': lambda x: f\"{x:3d}\"}))\n",
    "\n",
    "# Print accuracy\n",
    "accuracy = 100 * correct / total\n",
    "print(f\"Accuracy: {accuracy:.2f}%\")\n"
   ]
  },
  {
   "cell_type": "code",
   "execution_count": 10,
   "metadata": {},
   "outputs": [
    {
     "name": "stderr",
     "output_type": "stream",
     "text": [
      "C:\\Users\\mimis\\AppData\\Local\\Temp\\ipykernel_18556\\1422698640.py:24: UserWarning: set_ticklabels() should only be used with a fixed number of ticks, i.e. after set_ticks() or using a FixedLocator.\n",
      "  ax.set_xticklabels([''] + list(range(10)))\n",
      "C:\\Users\\mimis\\AppData\\Local\\Temp\\ipykernel_18556\\1422698640.py:25: UserWarning: set_ticklabels() should only be used with a fixed number of ticks, i.e. after set_ticks() or using a FixedLocator.\n",
      "  ax.set_yticklabels([''] + list(range(10)))\n"
     ]
    },
    {
     "data": {
      "image/png": "[encoded data removed]",
      "text/plain": [
       "<Figure size 1000x800 with 2 Axes>"
      ]
     },
     "metadata": {},
     "output_type": "display_data"
    }
   ],
   "source": [
    "import numpy as np\n",
    "import matplotlib.pyplot as plt\n",
    "from sklearn.metrics import confusion_matrix, ConfusionMatrixDisplay\n",
    "\n",
    "confusion_matrix = np.array([\n",
    "    [837,   2,  25,  10,   9,   0,   3,   7,  86,  21],\n",
    "    [ 21, 831,   3,   5,   0,   0,   0,   1,  70,  69],\n",
    "    [ 84,   1, 706,  61,  45,  16,  26,  35,  16,  10],\n",
    "    [ 25,   3,  32, 733,  28,  60,  15,  46,  30,  28],\n",
    "    [ 21,   0,  45,  45, 747,   8,  13, 107,   7,   7],\n",
    "    [ 16,   1,  37, 188,  19, 634,   3,  79,  10,  13],\n",
    "    [ 20,   5,  36,  86,  29,   5, 763,  16,  18,  22],\n",
    "    [ 22,   2,  18,  36,  14,  12,   1, 883,   5,   7],\n",
    "    [ 43,   6,   2,  10,   0,   2,   1,   1, 924,  11],\n",
    "    [ 31,  23,   7,   7,   1,   1,   0,   4,  52, 874]\n",
    "])\n",
    "\n",
    "# Plotting the confusion matrix\n",
    "fig, ax = plt.subplots(figsize=(10, 8))\n",
    "cax = ax.matshow(confusion_matrix, cmap=plt.cm.Blues)\n",
    "fig.colorbar(cax)\n",
    "\n",
    "# Setting labels for axes\n",
    "ax.set_xticklabels([''] + list(range(10)))\n",
    "ax.set_yticklabels([''] + list(range(10)))\n",
    "\n",
    "# Displaying the values of the confusion matrix on the plot\n",
    "for (i, j), val in np.ndenumerate(confusion_matrix):\n",
    "    ax.text(j, i, f'{val}', ha='center', va='center', color='white' if confusion_matrix[i, j] > 500 else 'black')\n",
    "\n",
    "plt.xlabel('Predicted Labels')\n",
    "plt.ylabel('True Labels')\n",
    "plt.title('Confusion Matrix with Accuracy: 79.32%')\n",
    "plt.show()"
   ]
  },
  {
   "cell_type": "markdown",
   "metadata": {},
   "source": [
    "The confusion matrix plot from the provided data, showcasing the performance of a classification model on a dataset with 10 classes. Each cell in the matrix represents the number of predictions made by the model, where the rows correspond to the actual classes, and the columns represent the predicted classes. The diagonal cells, highlighted in darker blue shades, show the number of correct predictions for each class, indicating the model's accuracy in classifying those instances. Off-diagonal cells reveal instances of misclassification. Text annotations within each cell provide the exact counts, enhancing the readability of the matrix. The overall accuracy of the model, indicated as 79.32%, is noted in the plot's title, summarizing the model's performance across all classes."
   ]
  }
 ],
 "metadata": {
  "kernelspec": {
   "display_name": "ml",
   "language": "python",
   "name": "python3"
  },
  "language_info": {
   "codemirror_mode": {
    "name": "ipython",
    "version": 3
   },
   "file_extension": ".py",
   "mimetype": "text/x-python",
   "name": "python",
   "nbconvert_exporter": "python",
   "pygments_lexer": "ipython3",
   "version": "3.12.2"
  },
  "orig_nbformat": 4,
  "vscode": {
   "interpreter": {
    "hash": "f5af58a9f1f579e9777827ede5d9c45decd7486a9d3dee0f84a1468c989d5713"
   }
  }
 },
 "nbformat": 4,
 "nbformat_minor": 2
}
